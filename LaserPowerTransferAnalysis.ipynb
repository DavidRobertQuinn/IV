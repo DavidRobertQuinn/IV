{
 "cells": [
  {
   "cell_type": "code",
   "execution_count": 43,
   "metadata": {
    "collapsed": false
   },
   "outputs": [],
   "source": [
    "%matplotlib inline\n",
    "import PV2\n",
    "import pandas as pd\n",
    "import matplotlib.pyplot as plt\n",
    "import numpy as np\n",
    "plt.style.use('seaborn-talk-grid') \n",
    "import os\n",
    "from itertools import zip_longest"
   ]
  },
  {
   "cell_type": "code",
   "execution_count": 8,
   "metadata": {
    "collapsed": false
   },
   "outputs": [],
   "source": [
    "filepath2 = r\"C:\\Users\\David\\Google_Drive\\Masters\\Laser Power Transfer Measuements\\October 2017\\new_mask\\A2397\\S3A3 -Oct 4 print_on_si\\S3A3(Near Edge)\"\n",
    "df2 =  PV2.create_PV_dataframe(pkl_name=\"S3A3_on_si.pkl\",epi=\"A2397\",filepath=filepath2, light=True)\n",
    "filepath1 =r\"C:\\Users\\David\\Google_Drive\\Masters\\Laser Power Transfer Measuements\\October 2017\\new_mask\\A2397\\S3A3 - On Chip - 23 October\\October 24 Light IV\\A2397 On chip\"\n",
    "df = PV2.create_PV_dataframe(pkl_name=\"S3A3_on_chip.pkl\",epi=\"A2397\",filepath=filepath1, light=True)\n"
   ]
  },
  {
   "cell_type": "code",
   "execution_count": 14,
   "metadata": {
    "collapsed": false
   },
   "outputs": [
    {
     "data": {
      "text/html": [
       "<div>\n",
       "<table border=\"1\" class=\"dataframe\">\n",
       "  <thead>\n",
       "    <tr style=\"text-align: right;\">\n",
       "      <th></th>\n",
       "      <th>Imp</th>\n",
       "      <th>Isc</th>\n",
       "      <th>Jsc</th>\n",
       "      <th>Vmp</th>\n",
       "      <th>Voc</th>\n",
       "      <th>area</th>\n",
       "      <th>current</th>\n",
       "      <th>current_density</th>\n",
       "      <th>device_code</th>\n",
       "      <th>device_loc</th>\n",
       "      <th>...</th>\n",
       "      <th>incident_power_dens</th>\n",
       "      <th>info</th>\n",
       "      <th>int_efficiency</th>\n",
       "      <th>int_opt_power</th>\n",
       "      <th>int_opt_power_dens</th>\n",
       "      <th>log_current_density</th>\n",
       "      <th>perimeter</th>\n",
       "      <th>r_series</th>\n",
       "      <th>voltage</th>\n",
       "      <th>voltage_log</th>\n",
       "    </tr>\n",
       "  </thead>\n",
       "  <tbody>\n",
       "    <tr>\n",
       "      <th>S3A3_110mA</th>\n",
       "      <td>-2.135160e-03</td>\n",
       "      <td>-2.197370e-03</td>\n",
       "      <td>-2.197370e+01</td>\n",
       "      <td>1.03</td>\n",
       "      <td>1.172592</td>\n",
       "      <td>0.0001</td>\n",
       "      <td>[-0.00330487, -0.00329818, -0.00329229, -0.003...</td>\n",
       "      <td>[-33.0487, -32.9818, -32.9229, -32.8499, -32.7...</td>\n",
       "      <td>S3A3</td>\n",
       "      <td>on_chip</td>\n",
       "      <td>...</td>\n",
       "      <td>0.0</td>\n",
       "      <td>37um_grid_lines</td>\n",
       "      <td>0.646139</td>\n",
       "      <td>3.403624e-03</td>\n",
       "      <td>3.403624e+01</td>\n",
       "      <td>[0.663745200444, 1.07226460675, 1.31514292962,...</td>\n",
       "      <td>0.04</td>\n",
       "      <td>2.315383</td>\n",
       "      <td>[-5.0, -4.99, -4.98, -4.97, -4.96, -4.95, -4.9...</td>\n",
       "      <td>[1.18, 1.19, 1.2, 1.21, 1.22, 1.23, 1.24, 1.25...</td>\n",
       "    </tr>\n",
       "    <tr>\n",
       "      <th>S3A3_130mA</th>\n",
       "      <td>-4.457540e-03</td>\n",
       "      <td>-4.606070e-03</td>\n",
       "      <td>-4.606070e+01</td>\n",
       "      <td>1.06</td>\n",
       "      <td>1.197548</td>\n",
       "      <td>0.0001</td>\n",
       "      <td>[-0.00669785, -0.00668098, -0.00666075, -0.006...</td>\n",
       "      <td>[-66.9785, -66.8098, -66.6075, -66.4623, -66.3...</td>\n",
       "      <td>S3A3</td>\n",
       "      <td>on_chip</td>\n",
       "      <td>...</td>\n",
       "      <td>0.0</td>\n",
       "      <td>37um_grid_lines</td>\n",
       "      <td>0.668910</td>\n",
       "      <td>7.063717e-03</td>\n",
       "      <td>7.063717e+01</td>\n",
       "      <td>[0.383817160582, 1.15342763633, 1.44767577388,...</td>\n",
       "      <td>0.04</td>\n",
       "      <td>2.309287</td>\n",
       "      <td>[-5.0, -4.99, -4.98, -4.97, -4.96, -4.95, -4.9...</td>\n",
       "      <td>[1.2, 1.21, 1.22, 1.23, 1.24, 1.25, 1.26, 1.27...</td>\n",
       "    </tr>\n",
       "    <tr>\n",
       "      <th>S3A3_150mA</th>\n",
       "      <td>-7.789260e-03</td>\n",
       "      <td>-8.060840e-03</td>\n",
       "      <td>-8.060840e+01</td>\n",
       "      <td>1.07</td>\n",
       "      <td>1.213367</td>\n",
       "      <td>0.0001</td>\n",
       "      <td>[-0.010646, -0.0106214, -0.0106003, -0.0105814...</td>\n",
       "      <td>[-106.46, -106.214, -106.003, -105.814, -105.6...</td>\n",
       "      <td>S3A3</td>\n",
       "      <td>on_chip</td>\n",
       "      <td>...</td>\n",
       "      <td>0.0</td>\n",
       "      <td>37um_grid_lines</td>\n",
       "      <td>0.671454</td>\n",
       "      <td>1.241262e-02</td>\n",
       "      <td>1.241262e+02</td>\n",
       "      <td>[1.03574983732, 1.45239831347, 1.67926795957, ...</td>\n",
       "      <td>0.04</td>\n",
       "      <td>2.305668</td>\n",
       "      <td>[-5.0, -4.99, -4.98, -4.97, -4.96, -4.95, -4.9...</td>\n",
       "      <td>[1.22, 1.23, 1.24, 1.25, 1.26, 1.27, 1.28, 1.2...</td>\n",
       "    </tr>\n",
       "    <tr>\n",
       "      <th>S3A3_170mA</th>\n",
       "      <td>-1.043540e-02</td>\n",
       "      <td>-1.087030e-02</td>\n",
       "      <td>-1.087030e+02</td>\n",
       "      <td>1.06</td>\n",
       "      <td>1.220000</td>\n",
       "      <td>0.0001</td>\n",
       "      <td>[-0.013797, -0.0137633, -0.0137402, -0.01371, ...</td>\n",
       "      <td>[-137.97, -137.633, -137.402, -137.1, -136.825...</td>\n",
       "      <td>S3A3</td>\n",
       "      <td>on_chip</td>\n",
       "      <td>...</td>\n",
       "      <td>0.0</td>\n",
       "      <td>37um_grid_lines</td>\n",
       "      <td>0.662201</td>\n",
       "      <td>1.670419e-02</td>\n",
       "      <td>1.670419e+02</td>\n",
       "      <td>[-3.19565744444, 1.27155585361, 1.59248653988,...</td>\n",
       "      <td>0.04</td>\n",
       "      <td>2.299505</td>\n",
       "      <td>[-5.0, -4.99, -4.98, -4.97, -4.96, -4.95, -4.9...</td>\n",
       "      <td>[1.22, 1.23, 1.24, 1.25, 1.26, 1.27, 1.28, 1.2...</td>\n",
       "    </tr>\n",
       "    <tr>\n",
       "      <th>S3A3_190mA</th>\n",
       "      <td>-1.314940e-02</td>\n",
       "      <td>-1.370200e-02</td>\n",
       "      <td>-1.370200e+02</td>\n",
       "      <td>1.04</td>\n",
       "      <td>1.225047</td>\n",
       "      <td>0.0001</td>\n",
       "      <td>[-0.0168644, -0.0168347, -0.0168038, -0.016783...</td>\n",
       "      <td>[-168.644, -168.347, -168.038, -167.834, -167....</td>\n",
       "      <td>S3A3</td>\n",
       "      <td>on_chip</td>\n",
       "      <td>...</td>\n",
       "      <td>0.0</td>\n",
       "      <td>37um_grid_lines</td>\n",
       "      <td>0.649146</td>\n",
       "      <td>2.106673e-02</td>\n",
       "      <td>2.106673e+02</td>\n",
       "      <td>[1.01983467152, 1.50337933805, 1.74047559138, ...</td>\n",
       "      <td>0.04</td>\n",
       "      <td>2.290150</td>\n",
       "      <td>[-5.0, -4.99, -4.98, -4.97, -4.96, -4.95, -4.9...</td>\n",
       "      <td>[1.23, 1.24, 1.25, 1.26, 1.27, 1.28, 1.29, 1.3...</td>\n",
       "    </tr>\n",
       "    <tr>\n",
       "      <th>S3A3_210mA</th>\n",
       "      <td>-1.555690e-02</td>\n",
       "      <td>-1.658750e-02</td>\n",
       "      <td>-1.658750e+02</td>\n",
       "      <td>1.03</td>\n",
       "      <td>1.228146</td>\n",
       "      <td>0.0001</td>\n",
       "      <td>[-0.0196283, -0.0195935, -0.0195653, -0.019535...</td>\n",
       "      <td>[-196.283, -195.935, -195.653, -195.353, -195....</td>\n",
       "      <td>S3A3</td>\n",
       "      <td>on_chip</td>\n",
       "      <td>...</td>\n",
       "      <td>0.0</td>\n",
       "      <td>37um_grid_lines</td>\n",
       "      <td>0.630345</td>\n",
       "      <td>2.542037e-02</td>\n",
       "      <td>2.542037e+02</td>\n",
       "      <td>[0.577457330653, 1.41372379062, 1.69704355057,...</td>\n",
       "      <td>0.04</td>\n",
       "      <td>2.284301</td>\n",
       "      <td>[-5.0, -4.99, -4.98, -4.97, -4.96, -4.95, -4.9...</td>\n",
       "      <td>[1.23, 1.24, 1.25, 1.26, 1.27, 1.28, 1.29, 1.3...</td>\n",
       "    </tr>\n",
       "    <tr>\n",
       "      <th>S3A3_230mA</th>\n",
       "      <td>-1.824270e-02</td>\n",
       "      <td>-2.012080e-02</td>\n",
       "      <td>-2.012080e+02</td>\n",
       "      <td>1.00</td>\n",
       "      <td>1.230624</td>\n",
       "      <td>0.0001</td>\n",
       "      <td>[-0.0223567, -0.0223246, -0.0222916, -0.022269...</td>\n",
       "      <td>[-223.567, -223.246, -222.916, -222.698, -222....</td>\n",
       "      <td>S3A3</td>\n",
       "      <td>on_chip</td>\n",
       "      <td>...</td>\n",
       "      <td>0.0</td>\n",
       "      <td>37um_grid_lines</td>\n",
       "      <td>0.593683</td>\n",
       "      <td>3.072801e-02</td>\n",
       "      <td>3.072801e+02</td>\n",
       "      <td>[1.33281603094, 1.66244993996, 1.85732525813, ...</td>\n",
       "      <td>0.04</td>\n",
       "      <td>2.277714</td>\n",
       "      <td>[-5.0, -4.99, -4.98, -4.97, -4.96, -4.95, -4.9...</td>\n",
       "      <td>[1.24, 1.25, 1.26, 1.27, 1.28, 1.29, 1.3, 1.31...</td>\n",
       "    </tr>\n",
       "    <tr>\n",
       "      <th>S3A3_250mA</th>\n",
       "      <td>-2.047240e-02</td>\n",
       "      <td>-2.357530e-02</td>\n",
       "      <td>-2.357530e+02</td>\n",
       "      <td>0.98</td>\n",
       "      <td>1.232577</td>\n",
       "      <td>0.0001</td>\n",
       "      <td>[-0.0252734, -0.0252391, -0.0251956, -0.025181...</td>\n",
       "      <td>[-252.734, -252.391, -251.956, -251.815, -251....</td>\n",
       "      <td>S3A3</td>\n",
       "      <td>on_chip</td>\n",
       "      <td>...</td>\n",
       "      <td>0.0</td>\n",
       "      <td>37um_grid_lines</td>\n",
       "      <td>0.556019</td>\n",
       "      <td>3.608321e-02</td>\n",
       "      <td>3.608321e+02</td>\n",
       "      <td>[1.24937204045, 1.63052550403, 1.84023661422, ...</td>\n",
       "      <td>0.04</td>\n",
       "      <td>2.271832</td>\n",
       "      <td>[-5.0, -4.99, -4.98, -4.97, -4.96, -4.95, -4.9...</td>\n",
       "      <td>[1.24, 1.25, 1.26, 1.27, 1.28, 1.29, 1.3, 1.31...</td>\n",
       "    </tr>\n",
       "    <tr>\n",
       "      <th>S3A3_dark</th>\n",
       "      <td>8.130070e-12</td>\n",
       "      <td>8.130070e-12</td>\n",
       "      <td>8.130070e-08</td>\n",
       "      <td>0.00</td>\n",
       "      <td>-0.559864</td>\n",
       "      <td>0.0001</td>\n",
       "      <td>[-1.20991e-09, -1.15689e-09, -1.11843e-09, -1....</td>\n",
       "      <td>[-1.20991e-05, -1.15689e-05, -1.11843e-05, -1....</td>\n",
       "      <td>S3A3</td>\n",
       "      <td>on_chip</td>\n",
       "      <td>...</td>\n",
       "      <td>0.0</td>\n",
       "      <td>37um_grid_lines</td>\n",
       "      <td>-0.000000</td>\n",
       "      <td>2.534536e-11</td>\n",
       "      <td>2.534536e-07</td>\n",
       "      <td>[-8.08484086122, -8.62265913792, -8.0663573455...</td>\n",
       "      <td>0.04</td>\n",
       "      <td>2.326540</td>\n",
       "      <td>[-5.0, -4.99, -4.98, -4.97, -4.96, -4.95, -4.9...</td>\n",
       "      <td>[-1.19, -1.15, -1.12, -1.0, -0.99, -0.97, -0.9...</td>\n",
       "    </tr>\n",
       "  </tbody>\n",
       "</table>\n",
       "<p>9 rows × 28 columns</p>\n",
       "</div>"
      ],
      "text/plain": [
       "                     Imp           Isc           Jsc   Vmp       Voc    area                                            current                                    current_density device_code device_loc                        ...                          incident_power_dens             info int_efficiency  \\\n",
       "S3A3_110mA -2.135160e-03 -2.197370e-03 -2.197370e+01  1.03  1.172592  0.0001  [-0.00330487, -0.00329818, -0.00329229, -0.003...  [-33.0487, -32.9818, -32.9229, -32.8499, -32.7...        S3A3    on_chip                        ...                                          0.0  37um_grid_lines       0.646139   \n",
       "S3A3_130mA -4.457540e-03 -4.606070e-03 -4.606070e+01  1.06  1.197548  0.0001  [-0.00669785, -0.00668098, -0.00666075, -0.006...  [-66.9785, -66.8098, -66.6075, -66.4623, -66.3...        S3A3    on_chip                        ...                                          0.0  37um_grid_lines       0.668910   \n",
       "S3A3_150mA -7.789260e-03 -8.060840e-03 -8.060840e+01  1.07  1.213367  0.0001  [-0.010646, -0.0106214, -0.0106003, -0.0105814...  [-106.46, -106.214, -106.003, -105.814, -105.6...        S3A3    on_chip                        ...                                          0.0  37um_grid_lines       0.671454   \n",
       "S3A3_170mA -1.043540e-02 -1.087030e-02 -1.087030e+02  1.06  1.220000  0.0001  [-0.013797, -0.0137633, -0.0137402, -0.01371, ...  [-137.97, -137.633, -137.402, -137.1, -136.825...        S3A3    on_chip                        ...                                          0.0  37um_grid_lines       0.662201   \n",
       "S3A3_190mA -1.314940e-02 -1.370200e-02 -1.370200e+02  1.04  1.225047  0.0001  [-0.0168644, -0.0168347, -0.0168038, -0.016783...  [-168.644, -168.347, -168.038, -167.834, -167....        S3A3    on_chip                        ...                                          0.0  37um_grid_lines       0.649146   \n",
       "S3A3_210mA -1.555690e-02 -1.658750e-02 -1.658750e+02  1.03  1.228146  0.0001  [-0.0196283, -0.0195935, -0.0195653, -0.019535...  [-196.283, -195.935, -195.653, -195.353, -195....        S3A3    on_chip                        ...                                          0.0  37um_grid_lines       0.630345   \n",
       "S3A3_230mA -1.824270e-02 -2.012080e-02 -2.012080e+02  1.00  1.230624  0.0001  [-0.0223567, -0.0223246, -0.0222916, -0.022269...  [-223.567, -223.246, -222.916, -222.698, -222....        S3A3    on_chip                        ...                                          0.0  37um_grid_lines       0.593683   \n",
       "S3A3_250mA -2.047240e-02 -2.357530e-02 -2.357530e+02  0.98  1.232577  0.0001  [-0.0252734, -0.0252391, -0.0251956, -0.025181...  [-252.734, -252.391, -251.956, -251.815, -251....        S3A3    on_chip                        ...                                          0.0  37um_grid_lines       0.556019   \n",
       "S3A3_dark   8.130070e-12  8.130070e-12  8.130070e-08  0.00 -0.559864  0.0001  [-1.20991e-09, -1.15689e-09, -1.11843e-09, -1....  [-1.20991e-05, -1.15689e-05, -1.11843e-05, -1....        S3A3    on_chip                        ...                                          0.0  37um_grid_lines      -0.000000   \n",
       "\n",
       "           int_opt_power  int_opt_power_dens                                log_current_density perimeter  r_series                                            voltage                                        voltage_log  \n",
       "S3A3_110mA  3.403624e-03        3.403624e+01  [0.663745200444, 1.07226460675, 1.31514292962,...      0.04  2.315383  [-5.0, -4.99, -4.98, -4.97, -4.96, -4.95, -4.9...  [1.18, 1.19, 1.2, 1.21, 1.22, 1.23, 1.24, 1.25...  \n",
       "S3A3_130mA  7.063717e-03        7.063717e+01  [0.383817160582, 1.15342763633, 1.44767577388,...      0.04  2.309287  [-5.0, -4.99, -4.98, -4.97, -4.96, -4.95, -4.9...  [1.2, 1.21, 1.22, 1.23, 1.24, 1.25, 1.26, 1.27...  \n",
       "S3A3_150mA  1.241262e-02        1.241262e+02  [1.03574983732, 1.45239831347, 1.67926795957, ...      0.04  2.305668  [-5.0, -4.99, -4.98, -4.97, -4.96, -4.95, -4.9...  [1.22, 1.23, 1.24, 1.25, 1.26, 1.27, 1.28, 1.2...  \n",
       "S3A3_170mA  1.670419e-02        1.670419e+02  [-3.19565744444, 1.27155585361, 1.59248653988,...      0.04  2.299505  [-5.0, -4.99, -4.98, -4.97, -4.96, -4.95, -4.9...  [1.22, 1.23, 1.24, 1.25, 1.26, 1.27, 1.28, 1.2...  \n",
       "S3A3_190mA  2.106673e-02        2.106673e+02  [1.01983467152, 1.50337933805, 1.74047559138, ...      0.04  2.290150  [-5.0, -4.99, -4.98, -4.97, -4.96, -4.95, -4.9...  [1.23, 1.24, 1.25, 1.26, 1.27, 1.28, 1.29, 1.3...  \n",
       "S3A3_210mA  2.542037e-02        2.542037e+02  [0.577457330653, 1.41372379062, 1.69704355057,...      0.04  2.284301  [-5.0, -4.99, -4.98, -4.97, -4.96, -4.95, -4.9...  [1.23, 1.24, 1.25, 1.26, 1.27, 1.28, 1.29, 1.3...  \n",
       "S3A3_230mA  3.072801e-02        3.072801e+02  [1.33281603094, 1.66244993996, 1.85732525813, ...      0.04  2.277714  [-5.0, -4.99, -4.98, -4.97, -4.96, -4.95, -4.9...  [1.24, 1.25, 1.26, 1.27, 1.28, 1.29, 1.3, 1.31...  \n",
       "S3A3_250mA  3.608321e-02        3.608321e+02  [1.24937204045, 1.63052550403, 1.84023661422, ...      0.04  2.271832  [-5.0, -4.99, -4.98, -4.97, -4.96, -4.95, -4.9...  [1.24, 1.25, 1.26, 1.27, 1.28, 1.29, 1.3, 1.31...  \n",
       "S3A3_dark   2.534536e-11        2.534536e-07  [-8.08484086122, -8.62265913792, -8.0663573455...      0.04  2.326540  [-5.0, -4.99, -4.98, -4.97, -4.96, -4.95, -4.9...  [-1.19, -1.15, -1.12, -1.0, -0.99, -0.97, -0.9...  \n",
       "\n",
       "[9 rows x 28 columns]"
      ]
     },
     "execution_count": 14,
     "metadata": {},
     "output_type": "execute_result"
    }
   ],
   "source": [
    "df"
   ]
  },
  {
   "cell_type": "code",
   "execution_count": 15,
   "metadata": {
    "collapsed": false
   },
   "outputs": [
    {
     "data": {
      "text/html": [
       "<div>\n",
       "<table border=\"1\" class=\"dataframe\">\n",
       "  <thead>\n",
       "    <tr style=\"text-align: right;\">\n",
       "      <th></th>\n",
       "      <th>Imp</th>\n",
       "      <th>Isc</th>\n",
       "      <th>Jsc</th>\n",
       "      <th>Vmp</th>\n",
       "      <th>Voc</th>\n",
       "      <th>area</th>\n",
       "      <th>current</th>\n",
       "      <th>current_density</th>\n",
       "      <th>device_code</th>\n",
       "      <th>device_loc</th>\n",
       "      <th>...</th>\n",
       "      <th>info</th>\n",
       "      <th>int_efficiency</th>\n",
       "      <th>int_opt_power</th>\n",
       "      <th>int_opt_power_dens</th>\n",
       "      <th>log_current_density</th>\n",
       "      <th>perimeter</th>\n",
       "      <th>r_series</th>\n",
       "      <th>voltage</th>\n",
       "      <th>voltage_log</th>\n",
       "      <th>suns</th>\n",
       "    </tr>\n",
       "  </thead>\n",
       "  <tbody>\n",
       "    <tr>\n",
       "      <th>S3A3_110mA</th>\n",
       "      <td>-2.135160e-03</td>\n",
       "      <td>-2.197370e-03</td>\n",
       "      <td>-2.197370e+01</td>\n",
       "      <td>1.03</td>\n",
       "      <td>1.172592</td>\n",
       "      <td>0.0001</td>\n",
       "      <td>[-0.00330487, -0.00329818, -0.00329229, -0.003...</td>\n",
       "      <td>[-33.0487, -32.9818, -32.9229, -32.8499, -32.7...</td>\n",
       "      <td>S3A3</td>\n",
       "      <td>on_chip</td>\n",
       "      <td>...</td>\n",
       "      <td>37um_grid_lines</td>\n",
       "      <td>0.646139</td>\n",
       "      <td>3.403624e-03</td>\n",
       "      <td>3.403624e+01</td>\n",
       "      <td>[0.663745200444, 1.07226460675, 1.31514292962,...</td>\n",
       "      <td>0.04</td>\n",
       "      <td>2.315383</td>\n",
       "      <td>[-5.0, -4.99, -4.98, -4.97, -4.96, -4.95, -4.9...</td>\n",
       "      <td>[1.18, 1.19, 1.2, 1.21, 1.22, 1.23, 1.24, 1.25...</td>\n",
       "      <td>340.362386</td>\n",
       "    </tr>\n",
       "    <tr>\n",
       "      <th>S3A3_130mA</th>\n",
       "      <td>-4.457540e-03</td>\n",
       "      <td>-4.606070e-03</td>\n",
       "      <td>-4.606070e+01</td>\n",
       "      <td>1.06</td>\n",
       "      <td>1.197548</td>\n",
       "      <td>0.0001</td>\n",
       "      <td>[-0.00669785, -0.00668098, -0.00666075, -0.006...</td>\n",
       "      <td>[-66.9785, -66.8098, -66.6075, -66.4623, -66.3...</td>\n",
       "      <td>S3A3</td>\n",
       "      <td>on_chip</td>\n",
       "      <td>...</td>\n",
       "      <td>37um_grid_lines</td>\n",
       "      <td>0.668910</td>\n",
       "      <td>7.063717e-03</td>\n",
       "      <td>7.063717e+01</td>\n",
       "      <td>[0.383817160582, 1.15342763633, 1.44767577388,...</td>\n",
       "      <td>0.04</td>\n",
       "      <td>2.309287</td>\n",
       "      <td>[-5.0, -4.99, -4.98, -4.97, -4.96, -4.95, -4.9...</td>\n",
       "      <td>[1.2, 1.21, 1.22, 1.23, 1.24, 1.25, 1.26, 1.27...</td>\n",
       "      <td>706.371718</td>\n",
       "    </tr>\n",
       "    <tr>\n",
       "      <th>S3A3_150mA</th>\n",
       "      <td>-7.789260e-03</td>\n",
       "      <td>-8.060840e-03</td>\n",
       "      <td>-8.060840e+01</td>\n",
       "      <td>1.07</td>\n",
       "      <td>1.213367</td>\n",
       "      <td>0.0001</td>\n",
       "      <td>[-0.010646, -0.0106214, -0.0106003, -0.0105814...</td>\n",
       "      <td>[-106.46, -106.214, -106.003, -105.814, -105.6...</td>\n",
       "      <td>S3A3</td>\n",
       "      <td>on_chip</td>\n",
       "      <td>...</td>\n",
       "      <td>37um_grid_lines</td>\n",
       "      <td>0.671454</td>\n",
       "      <td>1.241262e-02</td>\n",
       "      <td>1.241262e+02</td>\n",
       "      <td>[1.03574983732, 1.45239831347, 1.67926795957, ...</td>\n",
       "      <td>0.04</td>\n",
       "      <td>2.305668</td>\n",
       "      <td>[-5.0, -4.99, -4.98, -4.97, -4.96, -4.95, -4.9...</td>\n",
       "      <td>[1.22, 1.23, 1.24, 1.25, 1.26, 1.27, 1.28, 1.2...</td>\n",
       "      <td>1241.262178</td>\n",
       "    </tr>\n",
       "    <tr>\n",
       "      <th>S3A3_170mA</th>\n",
       "      <td>-1.043540e-02</td>\n",
       "      <td>-1.087030e-02</td>\n",
       "      <td>-1.087030e+02</td>\n",
       "      <td>1.06</td>\n",
       "      <td>1.220000</td>\n",
       "      <td>0.0001</td>\n",
       "      <td>[-0.013797, -0.0137633, -0.0137402, -0.01371, ...</td>\n",
       "      <td>[-137.97, -137.633, -137.402, -137.1, -136.825...</td>\n",
       "      <td>S3A3</td>\n",
       "      <td>on_chip</td>\n",
       "      <td>...</td>\n",
       "      <td>37um_grid_lines</td>\n",
       "      <td>0.662201</td>\n",
       "      <td>1.670419e-02</td>\n",
       "      <td>1.670419e+02</td>\n",
       "      <td>[-3.19565744444, 1.27155585361, 1.59248653988,...</td>\n",
       "      <td>0.04</td>\n",
       "      <td>2.299505</td>\n",
       "      <td>[-5.0, -4.99, -4.98, -4.97, -4.96, -4.95, -4.9...</td>\n",
       "      <td>[1.22, 1.23, 1.24, 1.25, 1.26, 1.27, 1.28, 1.2...</td>\n",
       "      <td>1670.418620</td>\n",
       "    </tr>\n",
       "    <tr>\n",
       "      <th>S3A3_190mA</th>\n",
       "      <td>-1.314940e-02</td>\n",
       "      <td>-1.370200e-02</td>\n",
       "      <td>-1.370200e+02</td>\n",
       "      <td>1.04</td>\n",
       "      <td>1.225047</td>\n",
       "      <td>0.0001</td>\n",
       "      <td>[-0.0168644, -0.0168347, -0.0168038, -0.016783...</td>\n",
       "      <td>[-168.644, -168.347, -168.038, -167.834, -167....</td>\n",
       "      <td>S3A3</td>\n",
       "      <td>on_chip</td>\n",
       "      <td>...</td>\n",
       "      <td>37um_grid_lines</td>\n",
       "      <td>0.649146</td>\n",
       "      <td>2.106673e-02</td>\n",
       "      <td>2.106673e+02</td>\n",
       "      <td>[1.01983467152, 1.50337933805, 1.74047559138, ...</td>\n",
       "      <td>0.04</td>\n",
       "      <td>2.290150</td>\n",
       "      <td>[-5.0, -4.99, -4.98, -4.97, -4.96, -4.95, -4.9...</td>\n",
       "      <td>[1.23, 1.24, 1.25, 1.26, 1.27, 1.28, 1.29, 1.3...</td>\n",
       "      <td>2106.672880</td>\n",
       "    </tr>\n",
       "    <tr>\n",
       "      <th>S3A3_210mA</th>\n",
       "      <td>-1.555690e-02</td>\n",
       "      <td>-1.658750e-02</td>\n",
       "      <td>-1.658750e+02</td>\n",
       "      <td>1.03</td>\n",
       "      <td>1.228146</td>\n",
       "      <td>0.0001</td>\n",
       "      <td>[-0.0196283, -0.0195935, -0.0195653, -0.019535...</td>\n",
       "      <td>[-196.283, -195.935, -195.653, -195.353, -195....</td>\n",
       "      <td>S3A3</td>\n",
       "      <td>on_chip</td>\n",
       "      <td>...</td>\n",
       "      <td>37um_grid_lines</td>\n",
       "      <td>0.630345</td>\n",
       "      <td>2.542037e-02</td>\n",
       "      <td>2.542037e+02</td>\n",
       "      <td>[0.577457330653, 1.41372379062, 1.69704355057,...</td>\n",
       "      <td>0.04</td>\n",
       "      <td>2.284301</td>\n",
       "      <td>[-5.0, -4.99, -4.98, -4.97, -4.96, -4.95, -4.9...</td>\n",
       "      <td>[1.23, 1.24, 1.25, 1.26, 1.27, 1.28, 1.29, 1.3...</td>\n",
       "      <td>2542.037420</td>\n",
       "    </tr>\n",
       "    <tr>\n",
       "      <th>S3A3_230mA</th>\n",
       "      <td>-1.824270e-02</td>\n",
       "      <td>-2.012080e-02</td>\n",
       "      <td>-2.012080e+02</td>\n",
       "      <td>1.00</td>\n",
       "      <td>1.230624</td>\n",
       "      <td>0.0001</td>\n",
       "      <td>[-0.0223567, -0.0223246, -0.0222916, -0.022269...</td>\n",
       "      <td>[-223.567, -223.246, -222.916, -222.698, -222....</td>\n",
       "      <td>S3A3</td>\n",
       "      <td>on_chip</td>\n",
       "      <td>...</td>\n",
       "      <td>37um_grid_lines</td>\n",
       "      <td>0.593683</td>\n",
       "      <td>3.072801e-02</td>\n",
       "      <td>3.072801e+02</td>\n",
       "      <td>[1.33281603094, 1.66244993996, 1.85732525813, ...</td>\n",
       "      <td>0.04</td>\n",
       "      <td>2.277714</td>\n",
       "      <td>[-5.0, -4.99, -4.98, -4.97, -4.96, -4.95, -4.9...</td>\n",
       "      <td>[1.24, 1.25, 1.26, 1.27, 1.28, 1.29, 1.3, 1.31...</td>\n",
       "      <td>3072.801420</td>\n",
       "    </tr>\n",
       "    <tr>\n",
       "      <th>S3A3_250mA</th>\n",
       "      <td>-2.047240e-02</td>\n",
       "      <td>-2.357530e-02</td>\n",
       "      <td>-2.357530e+02</td>\n",
       "      <td>0.98</td>\n",
       "      <td>1.232577</td>\n",
       "      <td>0.0001</td>\n",
       "      <td>[-0.0252734, -0.0252391, -0.0251956, -0.025181...</td>\n",
       "      <td>[-252.734, -252.391, -251.956, -251.815, -251....</td>\n",
       "      <td>S3A3</td>\n",
       "      <td>on_chip</td>\n",
       "      <td>...</td>\n",
       "      <td>37um_grid_lines</td>\n",
       "      <td>0.556019</td>\n",
       "      <td>3.608321e-02</td>\n",
       "      <td>3.608321e+02</td>\n",
       "      <td>[1.24937204045, 1.63052550403, 1.84023661422, ...</td>\n",
       "      <td>0.04</td>\n",
       "      <td>2.271832</td>\n",
       "      <td>[-5.0, -4.99, -4.98, -4.97, -4.96, -4.95, -4.9...</td>\n",
       "      <td>[1.24, 1.25, 1.26, 1.27, 1.28, 1.29, 1.3, 1.31...</td>\n",
       "      <td>3608.320820</td>\n",
       "    </tr>\n",
       "    <tr>\n",
       "      <th>S3A3_dark</th>\n",
       "      <td>8.130070e-12</td>\n",
       "      <td>8.130070e-12</td>\n",
       "      <td>8.130070e-08</td>\n",
       "      <td>0.00</td>\n",
       "      <td>-0.559864</td>\n",
       "      <td>0.0001</td>\n",
       "      <td>[-1.20991e-09, -1.15689e-09, -1.11843e-09, -1....</td>\n",
       "      <td>[-1.20991e-05, -1.15689e-05, -1.11843e-05, -1....</td>\n",
       "      <td>S3A3</td>\n",
       "      <td>on_chip</td>\n",
       "      <td>...</td>\n",
       "      <td>37um_grid_lines</td>\n",
       "      <td>-0.000000</td>\n",
       "      <td>2.534536e-11</td>\n",
       "      <td>2.534536e-07</td>\n",
       "      <td>[-8.08484086122, -8.62265913792, -8.0663573455...</td>\n",
       "      <td>0.04</td>\n",
       "      <td>2.326540</td>\n",
       "      <td>[-5.0, -4.99, -4.98, -4.97, -4.96, -4.95, -4.9...</td>\n",
       "      <td>[-1.19, -1.15, -1.12, -1.0, -0.99, -0.97, -0.9...</td>\n",
       "      <td>0.000003</td>\n",
       "    </tr>\n",
       "  </tbody>\n",
       "</table>\n",
       "<p>9 rows × 29 columns</p>\n",
       "</div>"
      ],
      "text/plain": [
       "                     Imp           Isc           Jsc   Vmp       Voc    area                                            current                                    current_density device_code device_loc     ...                  info  int_efficiency int_opt_power int_opt_power_dens  \\\n",
       "S3A3_110mA -2.135160e-03 -2.197370e-03 -2.197370e+01  1.03  1.172592  0.0001  [-0.00330487, -0.00329818, -0.00329229, -0.003...  [-33.0487, -32.9818, -32.9229, -32.8499, -32.7...        S3A3    on_chip     ...       37um_grid_lines        0.646139  3.403624e-03       3.403624e+01   \n",
       "S3A3_130mA -4.457540e-03 -4.606070e-03 -4.606070e+01  1.06  1.197548  0.0001  [-0.00669785, -0.00668098, -0.00666075, -0.006...  [-66.9785, -66.8098, -66.6075, -66.4623, -66.3...        S3A3    on_chip     ...       37um_grid_lines        0.668910  7.063717e-03       7.063717e+01   \n",
       "S3A3_150mA -7.789260e-03 -8.060840e-03 -8.060840e+01  1.07  1.213367  0.0001  [-0.010646, -0.0106214, -0.0106003, -0.0105814...  [-106.46, -106.214, -106.003, -105.814, -105.6...        S3A3    on_chip     ...       37um_grid_lines        0.671454  1.241262e-02       1.241262e+02   \n",
       "S3A3_170mA -1.043540e-02 -1.087030e-02 -1.087030e+02  1.06  1.220000  0.0001  [-0.013797, -0.0137633, -0.0137402, -0.01371, ...  [-137.97, -137.633, -137.402, -137.1, -136.825...        S3A3    on_chip     ...       37um_grid_lines        0.662201  1.670419e-02       1.670419e+02   \n",
       "S3A3_190mA -1.314940e-02 -1.370200e-02 -1.370200e+02  1.04  1.225047  0.0001  [-0.0168644, -0.0168347, -0.0168038, -0.016783...  [-168.644, -168.347, -168.038, -167.834, -167....        S3A3    on_chip     ...       37um_grid_lines        0.649146  2.106673e-02       2.106673e+02   \n",
       "S3A3_210mA -1.555690e-02 -1.658750e-02 -1.658750e+02  1.03  1.228146  0.0001  [-0.0196283, -0.0195935, -0.0195653, -0.019535...  [-196.283, -195.935, -195.653, -195.353, -195....        S3A3    on_chip     ...       37um_grid_lines        0.630345  2.542037e-02       2.542037e+02   \n",
       "S3A3_230mA -1.824270e-02 -2.012080e-02 -2.012080e+02  1.00  1.230624  0.0001  [-0.0223567, -0.0223246, -0.0222916, -0.022269...  [-223.567, -223.246, -222.916, -222.698, -222....        S3A3    on_chip     ...       37um_grid_lines        0.593683  3.072801e-02       3.072801e+02   \n",
       "S3A3_250mA -2.047240e-02 -2.357530e-02 -2.357530e+02  0.98  1.232577  0.0001  [-0.0252734, -0.0252391, -0.0251956, -0.025181...  [-252.734, -252.391, -251.956, -251.815, -251....        S3A3    on_chip     ...       37um_grid_lines        0.556019  3.608321e-02       3.608321e+02   \n",
       "S3A3_dark   8.130070e-12  8.130070e-12  8.130070e-08  0.00 -0.559864  0.0001  [-1.20991e-09, -1.15689e-09, -1.11843e-09, -1....  [-1.20991e-05, -1.15689e-05, -1.11843e-05, -1....        S3A3    on_chip     ...       37um_grid_lines       -0.000000  2.534536e-11       2.534536e-07   \n",
       "\n",
       "                                          log_current_density  perimeter  r_series                                            voltage                                        voltage_log         suns  \n",
       "S3A3_110mA  [0.663745200444, 1.07226460675, 1.31514292962,...       0.04  2.315383  [-5.0, -4.99, -4.98, -4.97, -4.96, -4.95, -4.9...  [1.18, 1.19, 1.2, 1.21, 1.22, 1.23, 1.24, 1.25...   340.362386  \n",
       "S3A3_130mA  [0.383817160582, 1.15342763633, 1.44767577388,...       0.04  2.309287  [-5.0, -4.99, -4.98, -4.97, -4.96, -4.95, -4.9...  [1.2, 1.21, 1.22, 1.23, 1.24, 1.25, 1.26, 1.27...   706.371718  \n",
       "S3A3_150mA  [1.03574983732, 1.45239831347, 1.67926795957, ...       0.04  2.305668  [-5.0, -4.99, -4.98, -4.97, -4.96, -4.95, -4.9...  [1.22, 1.23, 1.24, 1.25, 1.26, 1.27, 1.28, 1.2...  1241.262178  \n",
       "S3A3_170mA  [-3.19565744444, 1.27155585361, 1.59248653988,...       0.04  2.299505  [-5.0, -4.99, -4.98, -4.97, -4.96, -4.95, -4.9...  [1.22, 1.23, 1.24, 1.25, 1.26, 1.27, 1.28, 1.2...  1670.418620  \n",
       "S3A3_190mA  [1.01983467152, 1.50337933805, 1.74047559138, ...       0.04  2.290150  [-5.0, -4.99, -4.98, -4.97, -4.96, -4.95, -4.9...  [1.23, 1.24, 1.25, 1.26, 1.27, 1.28, 1.29, 1.3...  2106.672880  \n",
       "S3A3_210mA  [0.577457330653, 1.41372379062, 1.69704355057,...       0.04  2.284301  [-5.0, -4.99, -4.98, -4.97, -4.96, -4.95, -4.9...  [1.23, 1.24, 1.25, 1.26, 1.27, 1.28, 1.29, 1.3...  2542.037420  \n",
       "S3A3_230mA  [1.33281603094, 1.66244993996, 1.85732525813, ...       0.04  2.277714  [-5.0, -4.99, -4.98, -4.97, -4.96, -4.95, -4.9...  [1.24, 1.25, 1.26, 1.27, 1.28, 1.29, 1.3, 1.31...  3072.801420  \n",
       "S3A3_250mA  [1.24937204045, 1.63052550403, 1.84023661422, ...       0.04  2.271832  [-5.0, -4.99, -4.98, -4.97, -4.96, -4.95, -4.9...  [1.24, 1.25, 1.26, 1.27, 1.28, 1.29, 1.3, 1.31...  3608.320820  \n",
       "S3A3_dark   [-8.08484086122, -8.62265913792, -8.0663573455...       0.04  2.326540  [-5.0, -4.99, -4.98, -4.97, -4.96, -4.95, -4.9...  [-1.19, -1.15, -1.12, -1.0, -0.99, -0.97, -0.9...     0.000003  \n",
       "\n",
       "[9 rows x 29 columns]"
      ]
     },
     "execution_count": 15,
     "metadata": {},
     "output_type": "execute_result"
    }
   ],
   "source": [
    "add_suns(df)\n"
   ]
  },
  {
   "cell_type": "code",
   "execution_count": 79,
   "metadata": {
    "collapsed": false
   },
   "outputs": [],
   "source": [
    "def lpt_analysis( *dfs):\n",
    "    line_plots =[('voltage', 'current'),('voltage','current_density')]\n",
    "    labels = [('Voltage (V)','Current (A)'), ('Voltage (V)','Current Density  ($A \\ cm^{-2}$)')]\n",
    "    for df in dfs:\n",
    "       \n",
    "        df =drop_dark_data(df)\n",
    "        df.is_copy = False\n",
    "        add_suns(df)\n",
    "    for (x,y),(label_x,label_y) in zip(line_plots,labels):\n",
    "        for log == [False, True]\n",
    "        plot_lines(x,y, label_x, label_y, *dfs, log_y)"
   ]
  },
  {
   "cell_type": "code",
   "execution_count": 72,
   "metadata": {
    "collapsed": false
   },
   "outputs": [],
   "source": [
    "def drop_dark_data(df):\n",
    "    \"\"\"Return dataframe in which the index does not contain the string 'dark' \"\"\"\n",
    "    s = df.index.str.contains(\"dark\")\n",
    "    return  df[~s]\n",
    "def add_suns(df):\n",
    "    \"\"\"adds intensity in suns columns to dataframe\"\"\"\n",
    "    df['suns'] = df.int_opt_power/(df.area*.1)\n",
    "    \n",
    "def plot_scatter( x, y,xlabel, ylabel,*dfs,log_x=None,log_y = None,fig_size = None, labels = None, xlims = None, ylims = None, save_name= None, watermark=None):\n",
    "    \"\"\"Plots scatter plots of varbles x and y from optional number of data frames\"\"\"\n",
    "    fig, ax = plt.subplots()\n",
    "    if fig_size:\n",
    "        fig.set_size_inches(fig_size)\n",
    "    for df, label in zip_longest(dfs, labels):\n",
    "        plt.scatter(df[x], df[y], label=label )\n",
    "    ax.set_xlabel(xlabel)\n",
    "    ax.set_ylabel(ylabel)\n",
    "    if labels:\n",
    "        ax.legend()\n",
    "    if log_x:\n",
    "        ax.set_xscale('log')\n",
    "    if log_y:\n",
    "        ax.set_yscale('log')\n",
    "    ax.set_xlim(xlims)\n",
    "    ax.set_ylim(ylims)\n",
    "    if save_name:\n",
    "        PV2.saveTikzPng(save_name,watermark)\n",
    "        \n",
    "# def plot_lines( x, y,xlabel, ylabel,*dfs,**kwargs):\n",
    "#     \"\"\"Plots scatter plots of vraibles x and y from optional number of data frames\"\"\"\n",
    "#     fig, ax = plt.subplots()\n",
    "#     if 'fig_size' in kwargs.keys() :\n",
    "# #         assert isinstance(fig_size, tuple)\n",
    "#         fig.set_size_inches(kwargs.get('fig_size'))\n",
    "#     for count,df in enumerate(dfs):\n",
    "#         for index, row in df.iterrows():\n",
    "#             plt.plot(row[x], row[y], color = PV2.colors[count])\n",
    "#     ax.set_xlabel(xlabel)\n",
    "#     ax.set_ylabel(ylabel)\n",
    "#     if \"labels\" in kwargs:\n",
    "#         for count, labels in enumerate(kwargs['labels']):\n",
    "#             plt.plot([],[], PV2.colors[count], label = label)\n",
    "#         ax.legend()\n",
    "#     ax.set_xlim(kwargs.get('xlims', None))\n",
    "#     ax.set_ylim(kwargs.get('ylims', None))\n",
    "#     if 'save_name' in kwargs:\n",
    "#         PV2.saveTikzPng(save_name,watermark=kwargs.get(\"watermark\", None))\n",
    "\n",
    "        \n",
    "def plot_lines( x, y,xlabel, ylabel,*dfs,log_x=None,log_y = None,fig_size = None, labels = None, xlims = None, ylims = None, save_name= None, watermark=None):\n",
    "    \"\"\"Plots scatter plots of vraibles x and y from optional number of data frames\"\"\"\n",
    "    fig, ax = plt.subplots()\n",
    "    if fig_size:\n",
    "        fig.set_size_inches(fig_size)\n",
    "    for count,df in enumerate(dfs):\n",
    "        for index, row in df.iterrows():\n",
    "            plt.plot(row[x], row[y], color = PV2.colors[count])\n",
    "    ax.set_xlabel(xlabel)\n",
    "    ax.set_ylabel(ylabel)\n",
    "    if labels:\n",
    "        for count, label in enumerate(labels):\n",
    "            plt.plot([],[], PV2.colors[count], label = label)\n",
    "        ax.legend()\n",
    "    ax.set_xlim(None)\n",
    "    ax.set_ylim(ylims)\n",
    "    if log_x:\n",
    "        ax.set_xscale('log')\n",
    "    if log_y:\n",
    "        ax.set_yscale('log')\n",
    "    if save_name:\n",
    "        PV2.saveTikzPng(save_name,watermark=watermark)\n"
   ]
  },
  {
   "cell_type": "code",
   "execution_count": 48,
   "metadata": {
    "collapsed": false
   },
   "outputs": [
    {
     "data": {
      "image/png": "[encoded data removed]",
      "text/plain": [
       "<matplotlib.figure.Figure at 0x260c06bba58>"
      ]
     },
     "metadata": {},
     "output_type": "display_data"
    }
   ],
   "source": []
  },
  {
   "cell_type": "code",
   "execution_count": 81,
   "metadata": {
    "collapsed": false
   },
   "outputs": [
    {
     "data": {
      "image/png": "[encoded data removed]",
      "text/plain": [
       "<matplotlib.figure.Figure at 0x260bf9aa400>"
      ]
     },
     "metadata": {},
     "output_type": "display_data"
    },
    {
     "data": {
      "image/png": "[encoded data removed]",
      "text/plain": [
       "<matplotlib.figure.Figure at 0x260bff19cf8>"
      ]
     },
     "metadata": {},
     "output_type": "display_data"
    }
   ],
   "source": [
    "lpt_analysis(df, df2)"
   ]
  },
  {
   "cell_type": "code",
   "execution_count": 23,
   "metadata": {
    "collapsed": false
   },
   "outputs": [
    {
     "data": {
      "text/plain": [
       "[<matplotlib.lines.Line2D at 0x260bffd3278>]"
      ]
     },
     "execution_count": 23,
     "metadata": {},
     "output_type": "execute_result"
    },
    {
     "data": {
      "image/png": "[encoded data removed]",
      "text/plain": [
       "<matplotlib.figure.Figure at 0x260c00e87b8>"
      ]
     },
     "metadata": {},
     "output_type": "display_data"
    }
   ],
   "source": [
    "fig = plt.figure()\n",
    "fig.set_size_inches(8,1)\n",
    "plt.plot([],[])"
   ]
  },
  {
   "cell_type": "code",
   "execution_count": null,
   "metadata": {
    "collapsed": true
   },
   "outputs": [],
   "source": [
    "df2['int_opt_power_dens'] = df.int_opt_power/df.area\n",
    "dark = df2.loc[\"S3A3_dark\",:]\n",
    "df2.drop(\"S3A3_dark\", inplace=True)"
   ]
  },
  {
   "cell_type": "code",
   "execution_count": 38,
   "metadata": {
    "collapsed": false
   },
   "outputs": [
    {
     "data": {
      "text/plain": [
       "<matplotlib.legend.Legend at 0x1beede82c18>"
      ]
     },
     "execution_count": 38,
     "metadata": {},
     "output_type": "execute_result"
    },
    {
     "data": {
      "image/png": "[encoded data removed]",
      "text/plain": [
       "<matplotlib.figure.Figure at 0x1beeddbb588>"
      ]
     },
     "metadata": {},
     "output_type": "display_data"
    }
   ],
   "source": [
    "fig, ax = plt.subplots(figsize =(8,6))\n",
    "plt.scatter(df['int_opt_power_dens']*10, df['int_efficiency'], label=None)\n",
    "plt.scatter(df2['int_opt_power_dens']*10, df2['int_efficiency'],label= \"On Si\")\n",
    "ax.set_xlabel(\"Power Density in Suns($0.1 \\ W \\ cm^{-2} $)\")\n",
    "ax.set_ylabel(\"$\\eta_{int}$\")\n",
    "# plt.legend()\n",
    "watermark = \"A2397 - S3A3 - ITO - Print On Si & On Chip Comparison\"\n",
    "plt.gcf().text(0.125, 0.9, watermark, fontsize=8)\n",
    "plt.legend()\n",
    "# PV2.saveTikzPng(\"int_eta_S3A3_on_si_on_chip_comparison\")"
   ]
  },
  {
   "cell_type": "code",
   "execution_count": null,
   "metadata": {
    "collapsed": false
   },
   "outputs": [],
   "source": [
    "fig, ax = plt.subplots()\n",
    "plt.scatter(df['int_opt_power_dens']*10, df['int_efficiency'], label=\"On Chip\")\n",
    "plt.scatter(df2['int_opt_power_dens']*10, df2['int_efficiency'],label= \"On Si\")\n",
    "ax.set_xlabel(\"Power Density in Suns($0.1 \\ W \\ cm^{-2} $)\")\n",
    "ax.set_ylabel(\"$\\eta_{int}$\")\n",
    "# plt.legend()\n",
    "watermark = \"A2397 - S3A3 - ITO - Print On Si & On Chip Comparison\"\n",
    "plt.gcf().text(0.125, 0.9, watermark, fontsize=8)\n",
    "plt.legend()\n",
    "PV2.saveTikzPng(\"int_eta_S3A3_on_si_on_chip_comparison_\")"
   ]
  },
  {
   "cell_type": "code",
   "execution_count": null,
   "metadata": {
    "collapsed": false
   },
   "outputs": [],
   "source": [
    "fig, ax = plt.subplots(figsize =(8,6))\n",
    "plt.scatter(df['int_opt_power_dens']*10, df['int_efficiency']*.89)\n",
    "ax.set_xlabel(\"Power Density in Suns($0.1 \\ W \\ cm^{-2} $)\")\n",
    "ax.set_ylabel(\"$\\eta_{ext}$\")\n",
    "# plt.legend()\n",
    "watermark = \"A2397 - S3A3 - ITO - Print On Si\"\n",
    "plt.gcf().text(0.125, 0.9, watermark, fontsize=8)\n",
    "PV2.saveTikzPng(\"ext_eta_S3A3_on_si\")"
   ]
  },
  {
   "cell_type": "code",
   "execution_count": 22,
   "metadata": {
    "collapsed": false
   },
   "outputs": [
    {
     "data": {
      "text/plain": [
       "<matplotlib.legend.Legend at 0x1beec66f320>"
      ]
     },
     "execution_count": 22,
     "metadata": {},
     "output_type": "execute_result"
    },
    {
     "data": {
      "image/png": "[encoded data removed]",
      "text/plain": [
       "<matplotlib.figure.Figure at 0x1beec5cfd68>"
      ]
     },
     "metadata": {},
     "output_type": "display_data"
    }
   ],
   "source": [
    "fig,ax = plt.subplots()\n",
    "for index, row in df.iterrows():\n",
    "    plt.plot(row.voltage, -1*row.current_density, color = PV2.colors[0])\n",
    "for index, row in df2.iterrows():\n",
    "    plt.plot(row.voltage, -1*row.current_density, color = PV2.colors[1]) \n",
    "plt.plot([],[],label=\"On Chip\")\n",
    "plt.plot([],[],label=\"On Si\")\n",
    "# plt.xlim(None)\n",
    "# plt.ylim(300)\n",
    "plt.xlabel(\"Voltage (V)\")\n",
    "plt.ylabel(\"Current Density ($A \\ cm^{-2}$)\")\n",
    "plt.legend()\n",
    "# watermark = \"A2397 - S3A3 - ITO - Print On Si\"\n",
    "# PV2.saveTikzPng(\"S3A3_on_si__on_chip_comparison_IVS_comparison_\", watermark)"
   ]
  },
  {
   "cell_type": "code",
   "execution_count": null,
   "metadata": {
    "collapsed": false
   },
   "outputs": [],
   "source": [
    "fig,ax = plt.subplots(figsize = (8,6))\n",
    "for index, row in df.iterrows():\n",
    "    plt.plot(row.voltage, row.current, color = PV2.colors[0])\n",
    "for index, row in df2.iterrows():\n",
    "    plt.plot(row.voltage, row.current, color = PV2.colors[1]) \n",
    "plt.plot([],[],label=\"On Chip\")\n",
    "plt.plot([],[],label=\"On Si\")\n",
    "# plt.xlim(0,1.4)\n",
    "plt.ylim(-.0300,0.02)\n",
    "plt.xlabel(\"Voltage (V)\")\n",
    "plt.ylabel(\"Current  (A)\")\n",
    "plt.legend()\n",
    "# PV2.saveTikzPng(\"S3A3_on_si_JVS_\", watermark)"
   ]
  },
  {
   "cell_type": "code",
   "execution_count": null,
   "metadata": {
    "collapsed": false
   },
   "outputs": [],
   "source": [
    "fig,ax = plt.subplots(figsize = (8,6))\n",
    "ax.scatter(df.int_opt_power_dens*10,  df.Isc, label=\"On Chip\")\n",
    "ax.scatter(df2.int_opt_power_dens*10,  df2.Isc,label=\"On Silicon\")\n",
    "ax.set_ylabel(\"$I_{sc} \\ (A)$\")\n",
    "ax.set_xlabel(\"Incident Power Density in Suns\")\n",
    "# ax.set_yscale('log')\n",
    "ax.legend()\n",
    "# ax.set_ylim(0,110)\n",
    "PV2.saveTikzPng(\"Isc Vs Power Density_ comparison\", watermark)"
   ]
  },
  {
   "cell_type": "code",
   "execution_count": null,
   "metadata": {
    "collapsed": false
   },
   "outputs": [],
   "source": [
    "fig,ax = plt.subplots(figsize = (8,6))\n",
    "ax.scatter(df.int_opt_power_dens*10,  df.Isc)\n",
    "\n",
    "ax.set_ylabel(\"$I_{sc} \\ (A)$\")\n",
    "ax.set_xlabel(\"Incident Power Density in Suns\")\n",
    "# ax.set_yscale('log')\n",
    "# ax.legend()\n",
    "# ax.set_ylim(0,110)\n",
    "PV2.saveTikzPng(\"Isc Vs Power Density\", watermark)"
   ]
  },
  {
   "cell_type": "code",
   "execution_count": null,
   "metadata": {
    "collapsed": false
   },
   "outputs": [],
   "source": [
    "fig,ax = plt.subplots(figsize = (8,6))\n",
    "ax.scatter(df.int_opt_power_dens*10,  df.Jsc)\n",
    "ax.scatter(df.int_opt_power_dens*10,  df.Isc, label=\"On Chip\")\n",
    "ax.scatter(df2.int_opt_power_dens*10,  df2.Isc,label=\"On Silicon\")\n",
    "ax.set_ylabel(\"$J_{sc} \\ (A \\ cm^{-2})$\")\n",
    "ax.set_xlabel(\"Incident Power Density in Suns\")\n",
    "# ax.set_yscale('log')\n",
    "# ax.legend()\n",
    "# ax.set_ylim(0,110)\n",
    "PV2.saveTikzPng(\"Jsc Vs Power Density\", watermark)"
   ]
  },
  {
   "cell_type": "code",
   "execution_count": null,
   "metadata": {
    "collapsed": false
   },
   "outputs": [],
   "source": [
    "fig,ax = plt.subplots(figsize = (8,6))\n",
    "# ax.scatter(df.int_opt_power_dens*10,  df.Voc)\n",
    "ax.scatter(df.int_opt_power_dens*10,  df.Voc, label=\"On Chip\")\n",
    "ax.scatter(df2.int_opt_power_dens*10,  df2.Voc,label=\"On Silicon\")\n",
    "ax.set_ylabel(\"$V_{oc} \\ (V)$\")\n",
    "ax.set_xlabel(\"Incident Power Density in Suns\")\n",
    "ax.set_xscale('log')\n",
    "ax.set_xlim(100, 10000)\n",
    "ax.legend()\n",
    "# ax.set_ylim(0,110)\n",
    "PV2.saveTikzPng(\"Voc log Vs Power Density\", watermark)"
   ]
  },
  {
   "cell_type": "code",
   "execution_count": null,
   "metadata": {
    "collapsed": false
   },
   "outputs": [],
   "source": [
    "fig,ax = plt.subplots(figsize = (8,6))\n",
    "\n",
    "ax.scatter(df.int_opt_power_dens*10,  df.fill_factor, label=\"On Chip\")\n",
    "ax.scatter(df2.int_opt_power_dens*10,  df2.fill_factor,label=\"On Silicon\")\n",
    "ax.set_ylabel(\"FF\")\n",
    "ax.set_xlabel(\"Incident Power Density in Suns\")\n",
    "# ax.set_yscale('log')\n",
    "ax.legend()\n",
    "# ax.set_ylim(0,110)\n",
    "PV2.saveTikzPng(\"Fill Factor Versus Power Density comparison\", watermark)"
   ]
  },
  {
   "cell_type": "code",
   "execution_count": null,
   "metadata": {
    "collapsed": false
   },
   "outputs": [],
   "source": [
    "voltage_pos, current_pos = PV2.remove_negative_values(voltage, current,0)"
   ]
  },
  {
   "cell_type": "code",
   "execution_count": null,
   "metadata": {
    "collapsed": false
   },
   "outputs": [],
   "source": [
    "plt.plot(voltage, current)"
   ]
  },
  {
   "cell_type": "code",
   "execution_count": null,
   "metadata": {
    "collapsed": true
   },
   "outputs": [],
   "source": []
  }
 ],
 "metadata": {
  "kernelspec": {
   "display_name": "Python 3",
   "language": "python",
   "name": "python3"
  },
  "language_info": {
   "codemirror_mode": {
    "name": "ipython",
    "version": 3
   },
   "file_extension": ".py",
   "mimetype": "text/x-python",
   "name": "python",
   "nbconvert_exporter": "python",
   "pygments_lexer": "ipython3",
   "version": "3.6.0"
  }
 },
 "nbformat": 4,
 "nbformat_minor": 2
}
